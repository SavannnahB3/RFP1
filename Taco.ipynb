{
 "cells": [
  {
   "cell_type": "code",
   "execution_count": 3,
   "id": "e63b412d",
   "metadata": {},
   "outputs": [],
   "source": [
    "import pandas as pd\n",
    "from sklearn.cluster import DBSCAN\n",
    "from sklearn.preprocessing import StandardScaler"
   ]
  },
  {
   "cell_type": "code",
   "execution_count": 4,
   "id": "ebffcfb2",
   "metadata": {},
   "outputs": [],
   "source": [
    "data = pd.read_csv(\"customerprofiles.csv\")"
   ]
  },
  {
   "cell_type": "code",
   "execution_count": 5,
   "id": "11204737",
   "metadata": {},
   "outputs": [],
   "source": [
    "features = ['age', 'income', 'kids']"
   ]
  },
  {
   "cell_type": "code",
   "execution_count": 6,
   "id": "859b0548",
   "metadata": {},
   "outputs": [],
   "source": [
    "scaler = StandardScaler()"
   ]
  },
  {
   "cell_type": "code",
   "execution_count": 7,
   "id": "d9728262",
   "metadata": {},
   "outputs": [
    {
     "name": "stdout",
     "output_type": "stream",
     "text": [
      "Feature: age, Number of clusters: 1\n",
      "Feature: income, Number of clusters: 1\n",
      "Feature: kids, Number of clusters: 6\n"
     ]
    }
   ],
   "source": [
    "for feature in features:\n",
    "    # Isolate the feature\n",
    "    X = data[[feature]].values\n",
    "    \n",
    "    # Scale the feature\n",
    "    X_scaled = scaler.fit_transform(X)\n",
    "    \n",
    "    # Apply DBSCAN\n",
    "    dbscan = DBSCAN(eps=0.5, min_samples=5)\n",
    "    clusters = dbscan.fit_predict(X_scaled)\n",
    "    \n",
    "    # Add cluster labels to the original data\n",
    "    data[f'{feature}_cluster'] = clusters\n",
    "    \n",
    "    # Display the number of clusters found for each feature\n",
    "    n_clusters = len(set(clusters)) - (1 if -1 in clusters else 0)\n",
    "    print(f'Feature: {feature}, Number of clusters: {n_clusters}')"
   ]
  },
  {
   "cell_type": "code",
   "execution_count": null,
   "id": "a3776d8b",
   "metadata": {},
   "outputs": [],
   "source": []
  }
 ],
 "metadata": {
  "kernelspec": {
   "display_name": "Python 3 (ipykernel)",
   "language": "python",
   "name": "python3"
  },
  "language_info": {
   "codemirror_mode": {
    "name": "ipython",
    "version": 3
   },
   "file_extension": ".py",
   "mimetype": "text/x-python",
   "name": "python",
   "nbconvert_exporter": "python",
   "pygments_lexer": "ipython3",
   "version": "3.11.4"
  }
 },
 "nbformat": 4,
 "nbformat_minor": 5
}
