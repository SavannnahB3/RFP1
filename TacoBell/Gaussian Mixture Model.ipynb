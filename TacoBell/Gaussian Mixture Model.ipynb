{
 "cells": [
  {
   "cell_type": "code",
   "execution_count": 14,
   "id": "10fef989",
   "metadata": {},
   "outputs": [],
   "source": [
    "import pandas as pd\n",
    "import seaborn as sns\n",
    "from sklearn.mixture import GaussianMixture\n",
    "import matplotlib.pyplot as plt\n",
    "import numpy as np"
   ]
  },
  {
   "cell_type": "code",
   "execution_count": 5,
   "id": "873bfb20",
   "metadata": {},
   "outputs": [
    {
     "data": {
      "text/html": [
       "<div>\n",
       "<style scoped>\n",
       "    .dataframe tbody tr th:only-of-type {\n",
       "        vertical-align: middle;\n",
       "    }\n",
       "\n",
       "    .dataframe tbody tr th {\n",
       "        vertical-align: top;\n",
       "    }\n",
       "\n",
       "    .dataframe thead th {\n",
       "        text-align: right;\n",
       "    }\n",
       "</style>\n",
       "<table border=\"1\" class=\"dataframe\">\n",
       "  <thead>\n",
       "    <tr style=\"text-align: right;\">\n",
       "      <th></th>\n",
       "      <th>gender</th>\n",
       "      <th>age</th>\n",
       "      <th>id</th>\n",
       "      <th>became_member_on (year month day)</th>\n",
       "      <th>income</th>\n",
       "      <th>ever_married</th>\n",
       "      <th>kids</th>\n",
       "      <th>home_state</th>\n",
       "    </tr>\n",
       "  </thead>\n",
       "  <tbody>\n",
       "    <tr>\n",
       "      <th>0</th>\n",
       "      <td>F</td>\n",
       "      <td>55</td>\n",
       "      <td>0610b486422d4921ae7d2bf64640c50b</td>\n",
       "      <td>20170715</td>\n",
       "      <td>112000.0</td>\n",
       "      <td>No</td>\n",
       "      <td>3</td>\n",
       "      <td>North Dakota</td>\n",
       "    </tr>\n",
       "    <tr>\n",
       "      <th>1</th>\n",
       "      <td>F</td>\n",
       "      <td>75</td>\n",
       "      <td>78afa995795e4d85b5d9ceeca43f5fef</td>\n",
       "      <td>20170509</td>\n",
       "      <td>100000.0</td>\n",
       "      <td>Yes</td>\n",
       "      <td>0</td>\n",
       "      <td>Florida</td>\n",
       "    </tr>\n",
       "    <tr>\n",
       "      <th>2</th>\n",
       "      <td>M</td>\n",
       "      <td>68</td>\n",
       "      <td>e2127556f4f64592b11af22de27a7932</td>\n",
       "      <td>20180426</td>\n",
       "      <td>70000.0</td>\n",
       "      <td>Yes</td>\n",
       "      <td>3</td>\n",
       "      <td>Florida</td>\n",
       "    </tr>\n",
       "    <tr>\n",
       "      <th>3</th>\n",
       "      <td>M</td>\n",
       "      <td>65</td>\n",
       "      <td>389bc3fa690240e798340f5a15918d5c</td>\n",
       "      <td>20180209</td>\n",
       "      <td>53000.0</td>\n",
       "      <td>Yes</td>\n",
       "      <td>5</td>\n",
       "      <td>Missouri</td>\n",
       "    </tr>\n",
       "    <tr>\n",
       "      <th>4</th>\n",
       "      <td>M</td>\n",
       "      <td>58</td>\n",
       "      <td>2eeac8d8feae4a8cad5a6af0499a211d</td>\n",
       "      <td>20171111</td>\n",
       "      <td>51000.0</td>\n",
       "      <td>Yes</td>\n",
       "      <td>5</td>\n",
       "      <td>South Dakota</td>\n",
       "    </tr>\n",
       "  </tbody>\n",
       "</table>\n",
       "</div>"
      ],
      "text/plain": [
       "  gender  age                                id  \\\n",
       "0      F   55  0610b486422d4921ae7d2bf64640c50b   \n",
       "1      F   75  78afa995795e4d85b5d9ceeca43f5fef   \n",
       "2      M   68  e2127556f4f64592b11af22de27a7932   \n",
       "3      M   65  389bc3fa690240e798340f5a15918d5c   \n",
       "4      M   58  2eeac8d8feae4a8cad5a6af0499a211d   \n",
       "\n",
       "   became_member_on (year month day)    income ever_married  kids  \\\n",
       "0                           20170715  112000.0           No     3   \n",
       "1                           20170509  100000.0          Yes     0   \n",
       "2                           20180426   70000.0          Yes     3   \n",
       "3                           20180209   53000.0          Yes     5   \n",
       "4                           20171111   51000.0          Yes     5   \n",
       "\n",
       "     home_state  \n",
       "0  North Dakota  \n",
       "1       Florida  \n",
       "2       Florida  \n",
       "3      Missouri  \n",
       "4  South Dakota  "
      ]
     },
     "execution_count": 5,
     "metadata": {},
     "output_type": "execute_result"
    }
   ],
   "source": [
    "df = pd.read_csv(\"customer_profiles.csv\") \n",
    "df.head()"
   ]
  },
  {
   "cell_type": "code",
   "execution_count": 6,
   "id": "04996409",
   "metadata": {},
   "outputs": [
    {
     "name": "stdout",
     "output_type": "stream",
     "text": [
      "<class 'pandas.core.frame.DataFrame'>\n",
      "RangeIndex: 14825 entries, 0 to 14824\n",
      "Data columns (total 8 columns):\n",
      " #   Column                             Non-Null Count  Dtype  \n",
      "---  ------                             --------------  -----  \n",
      " 0   gender                             14825 non-null  object \n",
      " 1   age                                14825 non-null  int64  \n",
      " 2   id                                 14825 non-null  object \n",
      " 3   became_member_on (year month day)  14825 non-null  int64  \n",
      " 4   income                             14825 non-null  float64\n",
      " 5   ever_married                       14825 non-null  object \n",
      " 6   kids                               14825 non-null  int64  \n",
      " 7   home_state                         14825 non-null  object \n",
      "dtypes: float64(1), int64(3), object(4)\n",
      "memory usage: 926.7+ KB\n"
     ]
    }
   ],
   "source": [
    "df.info()"
   ]
  },
  {
   "cell_type": "code",
   "execution_count": 17,
   "id": "a9022082",
   "metadata": {},
   "outputs": [
    {
     "data": {
      "image/png": "[encoded data removed]",
      "text/plain": [
       "<Figure size 640x480 with 1 Axes>"
      ]
     },
     "metadata": {},
     "output_type": "display_data"
    }
   ],
   "source": [
    "# Assuming 'feature1' and 'feature2' are the relevant numerical columns for the GMM\n",
    "features = df[['age', 'kids']]\n",
    "\n",
    "# Specify the number of components (clusters)\n",
    "n_components = 3  # You can choose the appropriate number based on your analysis\n",
    "\n",
    "# Create and fit the Gaussian Mixture Model\n",
    "gmm = GaussianMixture(n_components=n_components)\n",
    "gmm.fit(features)\n",
    "\n",
    "cluster_assignments = gmm.predict(features)\n",
    "df['cluster'] = cluster_assignments\n",
    "\n",
    "# Scatter plot of the clusters\n",
    "plt.scatter(df['kids'], df['age'], c=df['cluster'], cmap='viridis')\n",
    "plt.title('GMM Clusters')\n",
    "plt.xlabel(\"kids\")\n",
    "plt.ylabel('age')\n",
    "plt.show()"
   ]
  },
  {
   "cell_type": "code",
   "execution_count": null,
   "id": "21b3c70b",
   "metadata": {},
   "outputs": [],
   "source": []
  }
 ],
 "metadata": {
  "kernelspec": {
   "display_name": "Python 3 (ipykernel)",
   "language": "python",
   "name": "python3"
  },
  "language_info": {
   "codemirror_mode": {
    "name": "ipython",
    "version": 3
   },
   "file_extension": ".py",
   "mimetype": "text/x-python",
   "name": "python",
   "nbconvert_exporter": "python",
   "pygments_lexer": "ipython3",
   "version": "3.9.13"
  }
 },
 "nbformat": 4,
 "nbformat_minor": 5
}
